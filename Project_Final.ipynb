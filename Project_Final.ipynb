{
  "cells": [
    {
      "cell_type": "markdown",
      "source": [
        "**Stage 1**"
      ],
      "metadata": {
        "id": "Ssz6LBcRe_MN"
      },
      "id": "Ssz6LBcRe_MN"
    },
    {
      "cell_type": "code",
      "execution_count": 26,
      "id": "8fbc9c16",
      "metadata": {
        "id": "8fbc9c16"
      },
      "outputs": [],
      "source": [
        "import pandas as pd\n",
        "data = pd.read_csv(\"flavors_of_cacao.csv\")"
      ]
    },
    {
      "cell_type": "code",
      "execution_count": null,
      "id": "eb55fd29",
      "metadata": {
        "id": "eb55fd29",
        "outputId": "1b67fb05-4fd2-46cf-fe2a-adc7cd97e6c6",
        "colab": {
          "base_uri": "https://localhost:8080/",
          "height": 206
        }
      },
      "outputs": [
        {
          "output_type": "execute_result",
          "data": {
            "text/plain": [
              "  Company \\n(Maker-if known) Specific Bean Origin\\nor Bar Name   REF  \\\n",
              "0                   A. Morin                       Agua Grande  1876   \n",
              "1                   A. Morin                             Kpime  1676   \n",
              "2                   A. Morin                            Atsane  1676   \n",
              "3                   A. Morin                             Akata  1680   \n",
              "4                   A. Morin                            Quilla  1704   \n",
              "\n",
              "   Review\\nDate Cocoa\\nPercent Company\\nLocation  Rating Bean\\nType  \\\n",
              "0          2016            63%            France    3.75              \n",
              "1          2015            70%            France    2.75              \n",
              "2          2015            70%            France    3.00              \n",
              "3          2015            70%            France    3.50              \n",
              "4          2015            70%            France    3.50              \n",
              "\n",
              "  Broad Bean\\nOrigin  \n",
              "0           Sao Tome  \n",
              "1               Togo  \n",
              "2               Togo  \n",
              "3               Togo  \n",
              "4               Peru  "
            ],
            "text/html": [
              "\n",
              "  <div id=\"df-dbf39d2a-8d03-4adf-bcb1-da7c94b59f1f\">\n",
              "    <div class=\"colab-df-container\">\n",
              "      <div>\n",
              "<style scoped>\n",
              "    .dataframe tbody tr th:only-of-type {\n",
              "        vertical-align: middle;\n",
              "    }\n",
              "\n",
              "    .dataframe tbody tr th {\n",
              "        vertical-align: top;\n",
              "    }\n",
              "\n",
              "    .dataframe thead th {\n",
              "        text-align: right;\n",
              "    }\n",
              "</style>\n",
              "<table border=\"1\" class=\"dataframe\">\n",
              "  <thead>\n",
              "    <tr style=\"text-align: right;\">\n",
              "      <th></th>\n",
              "      <th>Company \\n(Maker-if known)</th>\n",
              "      <th>Specific Bean Origin\\nor Bar Name</th>\n",
              "      <th>REF</th>\n",
              "      <th>Review\\nDate</th>\n",
              "      <th>Cocoa\\nPercent</th>\n",
              "      <th>Company\\nLocation</th>\n",
              "      <th>Rating</th>\n",
              "      <th>Bean\\nType</th>\n",
              "      <th>Broad Bean\\nOrigin</th>\n",
              "    </tr>\n",
              "  </thead>\n",
              "  <tbody>\n",
              "    <tr>\n",
              "      <th>0</th>\n",
              "      <td>A. Morin</td>\n",
              "      <td>Agua Grande</td>\n",
              "      <td>1876</td>\n",
              "      <td>2016</td>\n",
              "      <td>63%</td>\n",
              "      <td>France</td>\n",
              "      <td>3.75</td>\n",
              "      <td></td>\n",
              "      <td>Sao Tome</td>\n",
              "    </tr>\n",
              "    <tr>\n",
              "      <th>1</th>\n",
              "      <td>A. Morin</td>\n",
              "      <td>Kpime</td>\n",
              "      <td>1676</td>\n",
              "      <td>2015</td>\n",
              "      <td>70%</td>\n",
              "      <td>France</td>\n",
              "      <td>2.75</td>\n",
              "      <td></td>\n",
              "      <td>Togo</td>\n",
              "    </tr>\n",
              "    <tr>\n",
              "      <th>2</th>\n",
              "      <td>A. Morin</td>\n",
              "      <td>Atsane</td>\n",
              "      <td>1676</td>\n",
              "      <td>2015</td>\n",
              "      <td>70%</td>\n",
              "      <td>France</td>\n",
              "      <td>3.00</td>\n",
              "      <td></td>\n",
              "      <td>Togo</td>\n",
              "    </tr>\n",
              "    <tr>\n",
              "      <th>3</th>\n",
              "      <td>A. Morin</td>\n",
              "      <td>Akata</td>\n",
              "      <td>1680</td>\n",
              "      <td>2015</td>\n",
              "      <td>70%</td>\n",
              "      <td>France</td>\n",
              "      <td>3.50</td>\n",
              "      <td></td>\n",
              "      <td>Togo</td>\n",
              "    </tr>\n",
              "    <tr>\n",
              "      <th>4</th>\n",
              "      <td>A. Morin</td>\n",
              "      <td>Quilla</td>\n",
              "      <td>1704</td>\n",
              "      <td>2015</td>\n",
              "      <td>70%</td>\n",
              "      <td>France</td>\n",
              "      <td>3.50</td>\n",
              "      <td></td>\n",
              "      <td>Peru</td>\n",
              "    </tr>\n",
              "  </tbody>\n",
              "</table>\n",
              "</div>\n",
              "      <button class=\"colab-df-convert\" onclick=\"convertToInteractive('df-dbf39d2a-8d03-4adf-bcb1-da7c94b59f1f')\"\n",
              "              title=\"Convert this dataframe to an interactive table.\"\n",
              "              style=\"display:none;\">\n",
              "        \n",
              "  <svg xmlns=\"http://www.w3.org/2000/svg\" height=\"24px\"viewBox=\"0 0 24 24\"\n",
              "       width=\"24px\">\n",
              "    <path d=\"M0 0h24v24H0V0z\" fill=\"none\"/>\n",
              "    <path d=\"M18.56 5.44l.94 2.06.94-2.06 2.06-.94-2.06-.94-.94-2.06-.94 2.06-2.06.94zm-11 1L8.5 8.5l.94-2.06 2.06-.94-2.06-.94L8.5 2.5l-.94 2.06-2.06.94zm10 10l.94 2.06.94-2.06 2.06-.94-2.06-.94-.94-2.06-.94 2.06-2.06.94z\"/><path d=\"M17.41 7.96l-1.37-1.37c-.4-.4-.92-.59-1.43-.59-.52 0-1.04.2-1.43.59L10.3 9.45l-7.72 7.72c-.78.78-.78 2.05 0 2.83L4 21.41c.39.39.9.59 1.41.59.51 0 1.02-.2 1.41-.59l7.78-7.78 2.81-2.81c.8-.78.8-2.07 0-2.86zM5.41 20L4 18.59l7.72-7.72 1.47 1.35L5.41 20z\"/>\n",
              "  </svg>\n",
              "      </button>\n",
              "      \n",
              "  <style>\n",
              "    .colab-df-container {\n",
              "      display:flex;\n",
              "      flex-wrap:wrap;\n",
              "      gap: 12px;\n",
              "    }\n",
              "\n",
              "    .colab-df-convert {\n",
              "      background-color: #E8F0FE;\n",
              "      border: none;\n",
              "      border-radius: 50%;\n",
              "      cursor: pointer;\n",
              "      display: none;\n",
              "      fill: #1967D2;\n",
              "      height: 32px;\n",
              "      padding: 0 0 0 0;\n",
              "      width: 32px;\n",
              "    }\n",
              "\n",
              "    .colab-df-convert:hover {\n",
              "      background-color: #E2EBFA;\n",
              "      box-shadow: 0px 1px 2px rgba(60, 64, 67, 0.3), 0px 1px 3px 1px rgba(60, 64, 67, 0.15);\n",
              "      fill: #174EA6;\n",
              "    }\n",
              "\n",
              "    [theme=dark] .colab-df-convert {\n",
              "      background-color: #3B4455;\n",
              "      fill: #D2E3FC;\n",
              "    }\n",
              "\n",
              "    [theme=dark] .colab-df-convert:hover {\n",
              "      background-color: #434B5C;\n",
              "      box-shadow: 0px 1px 3px 1px rgba(0, 0, 0, 0.15);\n",
              "      filter: drop-shadow(0px 1px 2px rgba(0, 0, 0, 0.3));\n",
              "      fill: #FFFFFF;\n",
              "    }\n",
              "  </style>\n",
              "\n",
              "      <script>\n",
              "        const buttonEl =\n",
              "          document.querySelector('#df-dbf39d2a-8d03-4adf-bcb1-da7c94b59f1f button.colab-df-convert');\n",
              "        buttonEl.style.display =\n",
              "          google.colab.kernel.accessAllowed ? 'block' : 'none';\n",
              "\n",
              "        async function convertToInteractive(key) {\n",
              "          const element = document.querySelector('#df-dbf39d2a-8d03-4adf-bcb1-da7c94b59f1f');\n",
              "          const dataTable =\n",
              "            await google.colab.kernel.invokeFunction('convertToInteractive',\n",
              "                                                     [key], {});\n",
              "          if (!dataTable) return;\n",
              "\n",
              "          const docLinkHtml = 'Like what you see? Visit the ' +\n",
              "            '<a target=\"_blank\" href=https://colab.research.google.com/notebooks/data_table.ipynb>data table notebook</a>'\n",
              "            + ' to learn more about interactive tables.';\n",
              "          element.innerHTML = '';\n",
              "          dataTable['output_type'] = 'display_data';\n",
              "          await google.colab.output.renderOutput(dataTable, element);\n",
              "          const docLink = document.createElement('div');\n",
              "          docLink.innerHTML = docLinkHtml;\n",
              "          element.appendChild(docLink);\n",
              "        }\n",
              "      </script>\n",
              "    </div>\n",
              "  </div>\n",
              "  "
            ]
          },
          "metadata": {},
          "execution_count": 5
        }
      ],
      "source": [
        "data.head()"
      ]
    },
    {
      "cell_type": "code",
      "execution_count": null,
      "id": "d64a00be",
      "metadata": {
        "id": "d64a00be",
        "outputId": "1c09605a-7050-4219-c652-a76c4cd7f25e",
        "colab": {
          "base_uri": "https://localhost:8080/"
        }
      },
      "outputs": [
        {
          "output_type": "stream",
          "name": "stdout",
          "text": [
            "<class 'pandas.core.frame.DataFrame'>\n",
            "RangeIndex: 1795 entries, 0 to 1794\n",
            "Data columns (total 9 columns):\n",
            " #   Column                            Non-Null Count  Dtype  \n",
            "---  ------                            --------------  -----  \n",
            " 0   Company \n",
            "(Maker-if known)         1795 non-null   object \n",
            " 1   Specific Bean Origin\n",
            "or Bar Name  1795 non-null   object \n",
            " 2   REF                               1795 non-null   int64  \n",
            " 3   Review\n",
            "Date                       1795 non-null   int64  \n",
            " 4   Cocoa\n",
            "Percent                     1795 non-null   object \n",
            " 5   Company\n",
            "Location                  1795 non-null   object \n",
            " 6   Rating                            1795 non-null   float64\n",
            " 7   Bean\n",
            "Type                         1794 non-null   object \n",
            " 8   Broad Bean\n",
            "Origin                 1794 non-null   object \n",
            "dtypes: float64(1), int64(2), object(6)\n",
            "memory usage: 126.3+ KB\n"
          ]
        }
      ],
      "source": [
        "data.info()"
      ]
    },
    {
      "cell_type": "markdown",
      "source": [
        "**Stage 2**"
      ],
      "metadata": {
        "id": "EzplnRxEfI1H"
      },
      "id": "EzplnRxEfI1H"
    },
    {
      "cell_type": "code",
      "execution_count": null,
      "id": "3af413d6",
      "metadata": {
        "id": "3af413d6",
        "outputId": "3d0bbf45-3574-410a-b3da-bdf2d74c9385"
      },
      "outputs": [
        {
          "data": {
            "text/plain": [
              "243"
            ]
          },
          "execution_count": 59,
          "metadata": {},
          "output_type": "execute_result"
        }
      ],
      "source": [
        "len(data[data['Review\\nDate'] > 2015]) "
      ]
    },
    {
      "cell_type": "markdown",
      "id": "6d4ddbfd",
      "metadata": {
        "id": "6d4ddbfd"
      },
      "source": [
        "there are 243 reviews later than 2015"
      ]
    },
    {
      "cell_type": "code",
      "execution_count": null,
      "id": "fb8b5857",
      "metadata": {
        "id": "fb8b5857"
      },
      "outputs": [],
      "source": [
        "len(data[data['']])"
      ]
    },
    {
      "cell_type": "code",
      "execution_count": null,
      "id": "0c23a68b",
      "metadata": {
        "id": "0c23a68b",
        "outputId": "06ffa1bf-5a1a-43ff-d420-ffe08aaa9684"
      },
      "outputs": [
        {
          "data": {
            "text/plain": [
              "764"
            ]
          },
          "execution_count": 47,
          "metadata": {},
          "output_type": "execute_result"
        }
      ],
      "source": [
        "len(data[data['Company\\nLocation'] == 'U.S.A.'])"
      ]
    },
    {
      "cell_type": "markdown",
      "id": "70285436",
      "metadata": {
        "id": "70285436"
      },
      "source": [
        "there are 764 bars from U.S.A."
      ]
    },
    {
      "cell_type": "code",
      "execution_count": null,
      "id": "a9d364d2",
      "metadata": {
        "id": "a9d364d2",
        "outputId": "445c244e-5c51-443f-f4c5-a993260f9225"
      },
      "outputs": [
        {
          "data": {
            "text/plain": [
              "963"
            ]
          },
          "execution_count": 58,
          "metadata": {},
          "output_type": "execute_result"
        }
      ],
      "source": [
        "len(data[data['REF'] > 1000])"
      ]
    },
    {
      "cell_type": "markdown",
      "id": "3b53e81e",
      "metadata": {
        "id": "3b53e81e"
      },
      "source": [
        "there are 963 bars with REF higher than 1000"
      ]
    },
    {
      "cell_type": "code",
      "execution_count": null,
      "id": "362d72bb",
      "metadata": {
        "id": "362d72bb",
        "outputId": "d30937b6-9640-4264-8ca5-6ca25d8f8d2e"
      },
      "outputs": [
        {
          "data": {
            "text/html": [
              "<div>\n",
              "<style scoped>\n",
              "    .dataframe tbody tr th:only-of-type {\n",
              "        vertical-align: middle;\n",
              "    }\n",
              "\n",
              "    .dataframe tbody tr th {\n",
              "        vertical-align: top;\n",
              "    }\n",
              "\n",
              "    .dataframe thead th {\n",
              "        text-align: right;\n",
              "    }\n",
              "</style>\n",
              "<table border=\"1\" class=\"dataframe\">\n",
              "  <thead>\n",
              "    <tr style=\"text-align: right;\">\n",
              "      <th></th>\n",
              "      <th>Company \\n(Maker-if known)</th>\n",
              "      <th>Specific Bean Origin\\nor Bar Name</th>\n",
              "      <th>REF</th>\n",
              "      <th>Review\\nDate</th>\n",
              "      <th>Cocoa\\nPercent</th>\n",
              "      <th>Company\\nLocation</th>\n",
              "      <th>Rating</th>\n",
              "      <th>Bean\\nType</th>\n",
              "      <th>Broad Bean\\nOrigin</th>\n",
              "    </tr>\n",
              "  </thead>\n",
              "  <tbody>\n",
              "    <tr>\n",
              "      <th>465</th>\n",
              "      <td>Cote d' Or (Kraft)</td>\n",
              "      <td>Sensations Intense</td>\n",
              "      <td>48</td>\n",
              "      <td>2006</td>\n",
              "      <td>70%</td>\n",
              "      <td>Belgium</td>\n",
              "      <td>1.0</td>\n",
              "      <td></td>\n",
              "      <td></td>\n",
              "    </tr>\n",
              "    <tr>\n",
              "      <th>326</th>\n",
              "      <td>Callebaut</td>\n",
              "      <td>Baking</td>\n",
              "      <td>141</td>\n",
              "      <td>2007</td>\n",
              "      <td>70%</td>\n",
              "      <td>Belgium</td>\n",
              "      <td>1.0</td>\n",
              "      <td></td>\n",
              "      <td>Ecuador</td>\n",
              "    </tr>\n",
              "    <tr>\n",
              "      <th>1175</th>\n",
              "      <td>Neuhaus (Callebaut)</td>\n",
              "      <td>Dark</td>\n",
              "      <td>135</td>\n",
              "      <td>2007</td>\n",
              "      <td>73%</td>\n",
              "      <td>Belgium</td>\n",
              "      <td>1.0</td>\n",
              "      <td></td>\n",
              "      <td></td>\n",
              "    </tr>\n",
              "    <tr>\n",
              "      <th>437</th>\n",
              "      <td>Claudio Corallo</td>\n",
              "      <td>Principe</td>\n",
              "      <td>252</td>\n",
              "      <td>2008</td>\n",
              "      <td>100%</td>\n",
              "      <td>Sao Tome</td>\n",
              "      <td>1.0</td>\n",
              "      <td>Forastero</td>\n",
              "      <td>Sao Tome &amp; Principe</td>\n",
              "    </tr>\n",
              "    <tr>\n",
              "      <th>245</th>\n",
              "      <td>Bonnat</td>\n",
              "      <td>One Hundred</td>\n",
              "      <td>81</td>\n",
              "      <td>2006</td>\n",
              "      <td>100%</td>\n",
              "      <td>France</td>\n",
              "      <td>1.5</td>\n",
              "      <td></td>\n",
              "      <td></td>\n",
              "    </tr>\n",
              "    <tr>\n",
              "      <th>...</th>\n",
              "      <td>...</td>\n",
              "      <td>...</td>\n",
              "      <td>...</td>\n",
              "      <td>...</td>\n",
              "      <td>...</td>\n",
              "      <td>...</td>\n",
              "      <td>...</td>\n",
              "      <td>...</td>\n",
              "      <td>...</td>\n",
              "    </tr>\n",
              "    <tr>\n",
              "      <th>108</th>\n",
              "      <td>Arete</td>\n",
              "      <td>Phantom</td>\n",
              "      <td>1924</td>\n",
              "      <td>2016</td>\n",
              "      <td>70%</td>\n",
              "      <td>U.S.A.</td>\n",
              "      <td>4.0</td>\n",
              "      <td>Forastero (Nacional)</td>\n",
              "      <td>Peru</td>\n",
              "    </tr>\n",
              "    <tr>\n",
              "      <th>799</th>\n",
              "      <td>Heirloom Cacao Preservation (Zokoko)</td>\n",
              "      <td>Wild Beni, Lower Rio Beni, Tranquilidad, 2015</td>\n",
              "      <td>1744</td>\n",
              "      <td>2016</td>\n",
              "      <td>72%</td>\n",
              "      <td>U.S.A.</td>\n",
              "      <td>4.0</td>\n",
              "      <td>Beniano</td>\n",
              "      <td>Bolivia</td>\n",
              "    </tr>\n",
              "    <tr>\n",
              "      <th>357</th>\n",
              "      <td>Castronovo</td>\n",
              "      <td>Maya Mtn, Batch 454, Heirloom</td>\n",
              "      <td>1724</td>\n",
              "      <td>2016</td>\n",
              "      <td>72%</td>\n",
              "      <td>U.S.A.</td>\n",
              "      <td>4.0</td>\n",
              "      <td>Trinitario</td>\n",
              "      <td>Belize</td>\n",
              "    </tr>\n",
              "    <tr>\n",
              "      <th>86</th>\n",
              "      <td>Amedei</td>\n",
              "      <td>Toscano Black</td>\n",
              "      <td>40</td>\n",
              "      <td>2006</td>\n",
              "      <td>70%</td>\n",
              "      <td>Italy</td>\n",
              "      <td>5.0</td>\n",
              "      <td>Blend</td>\n",
              "      <td></td>\n",
              "    </tr>\n",
              "    <tr>\n",
              "      <th>78</th>\n",
              "      <td>Amedei</td>\n",
              "      <td>Chuao</td>\n",
              "      <td>111</td>\n",
              "      <td>2007</td>\n",
              "      <td>70%</td>\n",
              "      <td>Italy</td>\n",
              "      <td>5.0</td>\n",
              "      <td>Trinitario</td>\n",
              "      <td>Venezuela</td>\n",
              "    </tr>\n",
              "  </tbody>\n",
              "</table>\n",
              "<p>1795 rows × 9 columns</p>\n",
              "</div>"
            ],
            "text/plain": [
              "                Company \\n(Maker-if known)  \\\n",
              "465                     Cote d' Or (Kraft)   \n",
              "326                              Callebaut   \n",
              "1175                   Neuhaus (Callebaut)   \n",
              "437                        Claudio Corallo   \n",
              "245                                 Bonnat   \n",
              "...                                    ...   \n",
              "108                                  Arete   \n",
              "799   Heirloom Cacao Preservation (Zokoko)   \n",
              "357                             Castronovo   \n",
              "86                                  Amedei   \n",
              "78                                  Amedei   \n",
              "\n",
              "                  Specific Bean Origin\\nor Bar Name   REF  Review\\nDate  \\\n",
              "465                              Sensations Intense    48          2006   \n",
              "326                                          Baking   141          2007   \n",
              "1175                                           Dark   135          2007   \n",
              "437                                        Principe   252          2008   \n",
              "245                                     One Hundred    81          2006   \n",
              "...                                             ...   ...           ...   \n",
              "108                                         Phantom  1924          2016   \n",
              "799   Wild Beni, Lower Rio Beni, Tranquilidad, 2015  1744          2016   \n",
              "357                   Maya Mtn, Batch 454, Heirloom  1724          2016   \n",
              "86                                    Toscano Black    40          2006   \n",
              "78                                            Chuao   111          2007   \n",
              "\n",
              "     Cocoa\\nPercent Company\\nLocation  Rating            Bean\\nType  \\\n",
              "465             70%           Belgium     1.0                         \n",
              "326             70%           Belgium     1.0                         \n",
              "1175            73%           Belgium     1.0                         \n",
              "437            100%          Sao Tome     1.0             Forastero   \n",
              "245            100%            France     1.5                         \n",
              "...             ...               ...     ...                   ...   \n",
              "108             70%            U.S.A.     4.0  Forastero (Nacional)   \n",
              "799             72%            U.S.A.     4.0               Beniano   \n",
              "357             72%            U.S.A.     4.0            Trinitario   \n",
              "86              70%             Italy     5.0                 Blend   \n",
              "78              70%             Italy     5.0            Trinitario   \n",
              "\n",
              "       Broad Bean\\nOrigin  \n",
              "465                        \n",
              "326               Ecuador  \n",
              "1175                       \n",
              "437   Sao Tome & Principe  \n",
              "245                        \n",
              "...                   ...  \n",
              "108                  Peru  \n",
              "799               Bolivia  \n",
              "357                Belize  \n",
              "86                         \n",
              "78              Venezuela  \n",
              "\n",
              "[1795 rows x 9 columns]"
            ]
          },
          "execution_count": 16,
          "metadata": {},
          "output_type": "execute_result"
        }
      ],
      "source": [
        "data.sort_values(['Rating', 'Review\\nDate'], axis = 0, ascending = True, inplace = True)\n",
        "data"
      ]
    },
    {
      "cell_type": "markdown",
      "id": "3258fe47",
      "metadata": {
        "id": "3258fe47"
      },
      "source": [
        "Sensations Intense has the oldest review with lowest rating "
      ]
    },
    {
      "cell_type": "code",
      "execution_count": null,
      "id": "fb5015ee",
      "metadata": {
        "id": "fb5015ee",
        "outputId": "b402dc20-ce9c-44ef-e03f-d052bc12c7ed"
      },
      "outputs": [
        {
          "data": {
            "text/html": [
              "<div>\n",
              "<style scoped>\n",
              "    .dataframe tbody tr th:only-of-type {\n",
              "        vertical-align: middle;\n",
              "    }\n",
              "\n",
              "    .dataframe tbody tr th {\n",
              "        vertical-align: top;\n",
              "    }\n",
              "\n",
              "    .dataframe thead th {\n",
              "        text-align: right;\n",
              "    }\n",
              "</style>\n",
              "<table border=\"1\" class=\"dataframe\">\n",
              "  <thead>\n",
              "    <tr style=\"text-align: right;\">\n",
              "      <th></th>\n",
              "      <th>Company \\n(Maker-if known)</th>\n",
              "      <th>Specific Bean Origin\\nor Bar Name</th>\n",
              "      <th>REF</th>\n",
              "      <th>Review\\nDate</th>\n",
              "      <th>Cocoa\\nPercent</th>\n",
              "      <th>Company\\nLocation</th>\n",
              "      <th>Rating</th>\n",
              "      <th>Bean\\nType</th>\n",
              "      <th>Broad Bean\\nOrigin</th>\n",
              "    </tr>\n",
              "  </thead>\n",
              "  <tbody>\n",
              "    <tr>\n",
              "      <th>959</th>\n",
              "      <td>Letterpress</td>\n",
              "      <td>Maya Mtn, Batch 18, Heirloom</td>\n",
              "      <td>1952</td>\n",
              "      <td>2017</td>\n",
              "      <td>70%</td>\n",
              "      <td>U.S.A.</td>\n",
              "      <td>3.25</td>\n",
              "      <td></td>\n",
              "      <td>Belize</td>\n",
              "    </tr>\n",
              "    <tr>\n",
              "      <th>958</th>\n",
              "      <td>Letterpress</td>\n",
              "      <td>La Masica, Batch 7, FHIA</td>\n",
              "      <td>1952</td>\n",
              "      <td>2017</td>\n",
              "      <td>70%</td>\n",
              "      <td>U.S.A.</td>\n",
              "      <td>3.50</td>\n",
              "      <td></td>\n",
              "      <td>Honduras</td>\n",
              "    </tr>\n",
              "    <tr>\n",
              "      <th>535</th>\n",
              "      <td>Dick Taylor</td>\n",
              "      <td>Lanquin Estate</td>\n",
              "      <td>1952</td>\n",
              "      <td>2017</td>\n",
              "      <td>70%</td>\n",
              "      <td>U.S.A.</td>\n",
              "      <td>3.75</td>\n",
              "      <td></td>\n",
              "      <td>Guatemala</td>\n",
              "    </tr>\n",
              "    <tr>\n",
              "      <th>1760</th>\n",
              "      <td>Xocolla</td>\n",
              "      <td>Hispaniola, batch 170104</td>\n",
              "      <td>1948</td>\n",
              "      <td>2017</td>\n",
              "      <td>70%</td>\n",
              "      <td>U.S.A.</td>\n",
              "      <td>2.50</td>\n",
              "      <td></td>\n",
              "      <td>Dominican Republic</td>\n",
              "    </tr>\n",
              "    <tr>\n",
              "      <th>1759</th>\n",
              "      <td>Xocolla</td>\n",
              "      <td>Sambirano, batch 170102</td>\n",
              "      <td>1948</td>\n",
              "      <td>2017</td>\n",
              "      <td>70%</td>\n",
              "      <td>U.S.A.</td>\n",
              "      <td>2.75</td>\n",
              "      <td></td>\n",
              "      <td>Madagascar</td>\n",
              "    </tr>\n",
              "    <tr>\n",
              "      <th>...</th>\n",
              "      <td>...</td>\n",
              "      <td>...</td>\n",
              "      <td>...</td>\n",
              "      <td>...</td>\n",
              "      <td>...</td>\n",
              "      <td>...</td>\n",
              "      <td>...</td>\n",
              "      <td>...</td>\n",
              "      <td>...</td>\n",
              "    </tr>\n",
              "    <tr>\n",
              "      <th>1440</th>\n",
              "      <td>Scharffen Berger</td>\n",
              "      <td>Bittersweet</td>\n",
              "      <td>15</td>\n",
              "      <td>2006</td>\n",
              "      <td>70%</td>\n",
              "      <td>U.S.A.</td>\n",
              "      <td>3.50</td>\n",
              "      <td>Blend</td>\n",
              "      <td></td>\n",
              "    </tr>\n",
              "    <tr>\n",
              "      <th>878</th>\n",
              "      <td>Jacque Torres</td>\n",
              "      <td>Trinatario Treasure</td>\n",
              "      <td>5</td>\n",
              "      <td>2006</td>\n",
              "      <td>71%</td>\n",
              "      <td>U.S.A.</td>\n",
              "      <td>2.00</td>\n",
              "      <td>Trinitario</td>\n",
              "      <td>Ghana</td>\n",
              "    </tr>\n",
              "    <tr>\n",
              "      <th>1326</th>\n",
              "      <td>Pralus</td>\n",
              "      <td>Trinidad</td>\n",
              "      <td>5</td>\n",
              "      <td>2006</td>\n",
              "      <td>75%</td>\n",
              "      <td>France</td>\n",
              "      <td>3.50</td>\n",
              "      <td>Trinitario</td>\n",
              "      <td>Trinidad</td>\n",
              "    </tr>\n",
              "    <tr>\n",
              "      <th>1325</th>\n",
              "      <td>Pralus</td>\n",
              "      <td>Sao Tome &amp; Principe</td>\n",
              "      <td>5</td>\n",
              "      <td>2006</td>\n",
              "      <td>75%</td>\n",
              "      <td>France</td>\n",
              "      <td>3.50</td>\n",
              "      <td>Forastero</td>\n",
              "      <td>Sao Tome &amp; Principe</td>\n",
              "    </tr>\n",
              "    <tr>\n",
              "      <th>1327</th>\n",
              "      <td>Pralus</td>\n",
              "      <td>Madagascar, Nosy Be Isle.</td>\n",
              "      <td>5</td>\n",
              "      <td>2006</td>\n",
              "      <td>75%</td>\n",
              "      <td>France</td>\n",
              "      <td>3.75</td>\n",
              "      <td>Criollo</td>\n",
              "      <td>Madagascar</td>\n",
              "    </tr>\n",
              "  </tbody>\n",
              "</table>\n",
              "<p>1795 rows × 9 columns</p>\n",
              "</div>"
            ],
            "text/plain": [
              "     Company \\n(Maker-if known) Specific Bean Origin\\nor Bar Name   REF  \\\n",
              "959                 Letterpress      Maya Mtn, Batch 18, Heirloom  1952   \n",
              "958                 Letterpress          La Masica, Batch 7, FHIA  1952   \n",
              "535                 Dick Taylor                    Lanquin Estate  1952   \n",
              "1760                    Xocolla          Hispaniola, batch 170104  1948   \n",
              "1759                    Xocolla           Sambirano, batch 170102  1948   \n",
              "...                         ...                               ...   ...   \n",
              "1440           Scharffen Berger                       Bittersweet    15   \n",
              "878               Jacque Torres               Trinatario Treasure     5   \n",
              "1326                     Pralus                          Trinidad     5   \n",
              "1325                     Pralus               Sao Tome & Principe     5   \n",
              "1327                     Pralus         Madagascar, Nosy Be Isle.     5   \n",
              "\n",
              "      Review\\nDate Cocoa\\nPercent Company\\nLocation  Rating  Bean\\nType  \\\n",
              "959           2017            70%            U.S.A.    3.25               \n",
              "958           2017            70%            U.S.A.    3.50               \n",
              "535           2017            70%            U.S.A.    3.75               \n",
              "1760          2017            70%            U.S.A.    2.50               \n",
              "1759          2017            70%            U.S.A.    2.75               \n",
              "...            ...            ...               ...     ...         ...   \n",
              "1440          2006            70%            U.S.A.    3.50       Blend   \n",
              "878           2006            71%            U.S.A.    2.00  Trinitario   \n",
              "1326          2006            75%            France    3.50  Trinitario   \n",
              "1325          2006            75%            France    3.50   Forastero   \n",
              "1327          2006            75%            France    3.75     Criollo   \n",
              "\n",
              "       Broad Bean\\nOrigin  \n",
              "959                Belize  \n",
              "958              Honduras  \n",
              "535             Guatemala  \n",
              "1760   Dominican Republic  \n",
              "1759           Madagascar  \n",
              "...                   ...  \n",
              "1440                       \n",
              "878                 Ghana  \n",
              "1326             Trinidad  \n",
              "1325  Sao Tome & Principe  \n",
              "1327           Madagascar  \n",
              "\n",
              "[1795 rows x 9 columns]"
            ]
          },
          "execution_count": 25,
          "metadata": {},
          "output_type": "execute_result"
        }
      ],
      "source": [
        "data.sort_values(['REF', 'Rating'], axis = 0, ascending = [False, True], inplace = True)\n",
        "data"
      ]
    },
    {
      "cell_type": "markdown",
      "id": "2ded0d19",
      "metadata": {
        "id": "2ded0d19"
      },
      "source": [
        "Maya Mtn, Batch 18, Heirloom bar has the lowest Rating between bars with highest REF"
      ]
    },
    {
      "cell_type": "code",
      "execution_count": null,
      "id": "59478a78",
      "metadata": {
        "id": "59478a78",
        "outputId": "59de5114-90f5-4553-af7c-96fd5b3e79ed"
      },
      "outputs": [
        {
          "data": {
            "text/html": [
              "<div>\n",
              "<style scoped>\n",
              "    .dataframe tbody tr th:only-of-type {\n",
              "        vertical-align: middle;\n",
              "    }\n",
              "\n",
              "    .dataframe tbody tr th {\n",
              "        vertical-align: top;\n",
              "    }\n",
              "\n",
              "    .dataframe thead th {\n",
              "        text-align: right;\n",
              "    }\n",
              "</style>\n",
              "<table border=\"1\" class=\"dataframe\">\n",
              "  <thead>\n",
              "    <tr style=\"text-align: right;\">\n",
              "      <th></th>\n",
              "      <th>Company \\n(Maker-if known)</th>\n",
              "      <th>Specific Bean Origin\\nor Bar Name</th>\n",
              "      <th>REF</th>\n",
              "      <th>Review\\nDate</th>\n",
              "      <th>Cocoa\\nPercent</th>\n",
              "      <th>Company\\nLocation</th>\n",
              "      <th>Rating</th>\n",
              "      <th>Bean\\nType</th>\n",
              "      <th>Broad Bean\\nOrigin</th>\n",
              "    </tr>\n",
              "  </thead>\n",
              "  <tbody>\n",
              "    <tr>\n",
              "      <th>1623</th>\n",
              "      <td>TCHO</td>\n",
              "      <td>Peru- Ecuador</td>\n",
              "      <td>915</td>\n",
              "      <td>2012</td>\n",
              "      <td>99%</td>\n",
              "      <td>U.S.A.</td>\n",
              "      <td>3.25</td>\n",
              "      <td></td>\n",
              "      <td>Peru, Ecuador</td>\n",
              "    </tr>\n",
              "    <tr>\n",
              "      <th>759</th>\n",
              "      <td>Guittard</td>\n",
              "      <td>Nocturne</td>\n",
              "      <td>387</td>\n",
              "      <td>2009</td>\n",
              "      <td>91%</td>\n",
              "      <td>U.S.A.</td>\n",
              "      <td>3.00</td>\n",
              "      <td></td>\n",
              "      <td></td>\n",
              "    </tr>\n",
              "    <tr>\n",
              "      <th>1658</th>\n",
              "      <td>Theo</td>\n",
              "      <td>Venezuela; Barinos, Merida, Tachron</td>\n",
              "      <td>188</td>\n",
              "      <td>2007</td>\n",
              "      <td>91%</td>\n",
              "      <td>U.S.A.</td>\n",
              "      <td>2.00</td>\n",
              "      <td>Blend</td>\n",
              "      <td>Venezuela</td>\n",
              "    </tr>\n",
              "    <tr>\n",
              "      <th>1716</th>\n",
              "      <td>Videri</td>\n",
              "      <td>Dark</td>\n",
              "      <td>1117</td>\n",
              "      <td>2013</td>\n",
              "      <td>90%</td>\n",
              "      <td>U.S.A.</td>\n",
              "      <td>3.75</td>\n",
              "      <td></td>\n",
              "      <td>Central and S. America</td>\n",
              "    </tr>\n",
              "    <tr>\n",
              "      <th>1721</th>\n",
              "      <td>Vintage Plantations (Tulicorp)</td>\n",
              "      <td>Los Rios, Rancho Grande 2004/2007</td>\n",
              "      <td>153</td>\n",
              "      <td>2007</td>\n",
              "      <td>90%</td>\n",
              "      <td>U.S.A.</td>\n",
              "      <td>2.00</td>\n",
              "      <td>Forastero (Arriba)</td>\n",
              "      <td>Ecuador</td>\n",
              "    </tr>\n",
              "    <tr>\n",
              "      <th>...</th>\n",
              "      <td>...</td>\n",
              "      <td>...</td>\n",
              "      <td>...</td>\n",
              "      <td>...</td>\n",
              "      <td>...</td>\n",
              "      <td>...</td>\n",
              "      <td>...</td>\n",
              "      <td>...</td>\n",
              "      <td>...</td>\n",
              "    </tr>\n",
              "    <tr>\n",
              "      <th>632</th>\n",
              "      <td>Ethel's Artisan (Mars)</td>\n",
              "      <td>Trinidad</td>\n",
              "      <td>666</td>\n",
              "      <td>2011</td>\n",
              "      <td>55%</td>\n",
              "      <td>U.S.A.</td>\n",
              "      <td>2.50</td>\n",
              "      <td>Trinitario</td>\n",
              "      <td>Trinidad</td>\n",
              "    </tr>\n",
              "    <tr>\n",
              "      <th>1013</th>\n",
              "      <td>Malie Kai (Guittard)</td>\n",
              "      <td>O'ahu, N. Shore, Waialua Estate w/ nibs</td>\n",
              "      <td>502</td>\n",
              "      <td>2010</td>\n",
              "      <td>55%</td>\n",
              "      <td>U.S.A.</td>\n",
              "      <td>3.50</td>\n",
              "      <td></td>\n",
              "      <td>Hawaii</td>\n",
              "    </tr>\n",
              "    <tr>\n",
              "      <th>1014</th>\n",
              "      <td>Malie Kai (Guittard)</td>\n",
              "      <td>O'ahu, N. Shore, Waialua Estate</td>\n",
              "      <td>311</td>\n",
              "      <td>2009</td>\n",
              "      <td>55%</td>\n",
              "      <td>U.S.A.</td>\n",
              "      <td>2.75</td>\n",
              "      <td>Blend</td>\n",
              "      <td>Hawaii</td>\n",
              "    </tr>\n",
              "    <tr>\n",
              "      <th>631</th>\n",
              "      <td>Ethel's Artisan (Mars)</td>\n",
              "      <td>Peru, Madagascar</td>\n",
              "      <td>666</td>\n",
              "      <td>2011</td>\n",
              "      <td>55%</td>\n",
              "      <td>U.S.A.</td>\n",
              "      <td>2.50</td>\n",
              "      <td></td>\n",
              "      <td>Peru, Madagascar</td>\n",
              "    </tr>\n",
              "    <tr>\n",
              "      <th>1720</th>\n",
              "      <td>Vintage Plantations (Tulicorp)</td>\n",
              "      <td>Los Rios, Rancho Grande 2004/2007</td>\n",
              "      <td>153</td>\n",
              "      <td>2007</td>\n",
              "      <td>100%</td>\n",
              "      <td>U.S.A.</td>\n",
              "      <td>2.00</td>\n",
              "      <td>Forastero (Arriba)</td>\n",
              "      <td>Ecuador</td>\n",
              "    </tr>\n",
              "  </tbody>\n",
              "</table>\n",
              "<p>764 rows × 9 columns</p>\n",
              "</div>"
            ],
            "text/plain": [
              "          Company \\n(Maker-if known)        Specific Bean Origin\\nor Bar Name  \\\n",
              "1623                            TCHO                            Peru- Ecuador   \n",
              "759                         Guittard                                 Nocturne   \n",
              "1658                            Theo      Venezuela; Barinos, Merida, Tachron   \n",
              "1716                          Videri                                     Dark   \n",
              "1721  Vintage Plantations (Tulicorp)        Los Rios, Rancho Grande 2004/2007   \n",
              "...                              ...                                      ...   \n",
              "632           Ethel's Artisan (Mars)                                 Trinidad   \n",
              "1013            Malie Kai (Guittard)  O'ahu, N. Shore, Waialua Estate w/ nibs   \n",
              "1014            Malie Kai (Guittard)          O'ahu, N. Shore, Waialua Estate   \n",
              "631           Ethel's Artisan (Mars)                         Peru, Madagascar   \n",
              "1720  Vintage Plantations (Tulicorp)        Los Rios, Rancho Grande 2004/2007   \n",
              "\n",
              "       REF  Review\\nDate Cocoa\\nPercent Company\\nLocation  Rating  \\\n",
              "1623   915          2012            99%            U.S.A.    3.25   \n",
              "759    387          2009            91%            U.S.A.    3.00   \n",
              "1658   188          2007            91%            U.S.A.    2.00   \n",
              "1716  1117          2013            90%            U.S.A.    3.75   \n",
              "1721   153          2007            90%            U.S.A.    2.00   \n",
              "...    ...           ...            ...               ...     ...   \n",
              "632    666          2011            55%            U.S.A.    2.50   \n",
              "1013   502          2010            55%            U.S.A.    3.50   \n",
              "1014   311          2009            55%            U.S.A.    2.75   \n",
              "631    666          2011            55%            U.S.A.    2.50   \n",
              "1720   153          2007           100%            U.S.A.    2.00   \n",
              "\n",
              "              Bean\\nType      Broad Bean\\nOrigin  \n",
              "1623                               Peru, Ecuador  \n",
              "759                                               \n",
              "1658               Blend               Venezuela  \n",
              "1716                      Central and S. America  \n",
              "1721  Forastero (Arriba)                 Ecuador  \n",
              "...                  ...                     ...  \n",
              "632           Trinitario                Trinidad  \n",
              "1013                                      Hawaii  \n",
              "1014               Blend                  Hawaii  \n",
              "631                             Peru, Madagascar  \n",
              "1720  Forastero (Arriba)                 Ecuador  \n",
              "\n",
              "[764 rows x 9 columns]"
            ]
          },
          "execution_count": 31,
          "metadata": {},
          "output_type": "execute_result"
        }
      ],
      "source": [
        "data.sort_values(['Cocoa\\nPercent'], axis = 0, ascending = False, inplace = True)\n",
        "data[data['Company\\nLocation'] == 'U.S.A.']"
      ]
    },
    {
      "cell_type": "markdown",
      "id": "c4c29e75",
      "metadata": {
        "id": "c4c29e75"
      },
      "source": [
        "Peru-Ecuador has the highest cocoa percent between bars from U.S.A."
      ]
    },
    {
      "cell_type": "code",
      "execution_count": null,
      "id": "da6f9bbd",
      "metadata": {
        "id": "da6f9bbd",
        "outputId": "9f609f29-b43a-4d92-f9b7-165d19ba80a5"
      },
      "outputs": [
        {
          "data": {
            "text/plain": [
              "U.S.A.               0.425627\n",
              "France               0.086908\n",
              "Canada               0.069638\n",
              "U.K.                 0.053482\n",
              "Italy                0.035097\n",
              "Ecuador              0.030084\n",
              "Australia            0.027298\n",
              "Belgium              0.022284\n",
              "Switzerland          0.021170\n",
              "Germany              0.019499\n",
              "Austria              0.014485\n",
              "Spain                0.013928\n",
              "Colombia             0.012813\n",
              "Hungary              0.012256\n",
              "Venezuela            0.011142\n",
              "New Zealand          0.009471\n",
              "Madagascar           0.009471\n",
              "Japan                0.009471\n",
              "Peru                 0.009471\n",
              "Brazil               0.009471\n",
              "Denmark              0.008357\n",
              "Vietnam              0.006128\n",
              "Guatemala            0.005571\n",
              "Scotland             0.005571\n",
              "Costa Rica           0.005014\n",
              "Israel               0.005014\n",
              "Argentina            0.005014\n",
              "Poland               0.004457\n",
              "Honduras             0.003343\n",
              "Lithuania            0.003343\n",
              "Domincan Republic    0.002786\n",
              "Nicaragua            0.002786\n",
              "Sweden               0.002786\n",
              "South Korea          0.002786\n",
              "Mexico               0.002228\n",
              "Netherlands          0.002228\n",
              "Sao Tome             0.002228\n",
              "Puerto Rico          0.002228\n",
              "Amsterdam            0.002228\n",
              "Ireland              0.002228\n",
              "Fiji                 0.002228\n",
              "Portugal             0.001671\n",
              "Iceland              0.001671\n",
              "Singapore            0.001671\n",
              "Grenada              0.001671\n",
              "South Africa         0.001671\n",
              "St. Lucia            0.001114\n",
              "Chile                0.001114\n",
              "Finland              0.001114\n",
              "Bolivia              0.001114\n",
              "Ghana                0.000557\n",
              "Wales                0.000557\n",
              "Niacragua            0.000557\n",
              "Eucador              0.000557\n",
              "Russia               0.000557\n",
              "Suriname             0.000557\n",
              "Philippines          0.000557\n",
              "Czech Republic       0.000557\n",
              "India                0.000557\n",
              "Martinique           0.000557\n",
              "Name: Company\\nLocation, dtype: float64"
            ]
          },
          "execution_count": 33,
          "metadata": {},
          "output_type": "execute_result"
        }
      ],
      "source": [
        "data['Company\\nLocation'].value_counts(normalize=True)"
      ]
    },
    {
      "cell_type": "markdown",
      "id": "fbd345df",
      "metadata": {
        "id": "fbd345df"
      },
      "source": [
        "Most of the bars come from U.S.A., less of them come from Martinique"
      ]
    },
    {
      "cell_type": "code",
      "execution_count": null,
      "id": "c97eff14",
      "metadata": {
        "id": "c97eff14",
        "outputId": "ce9592ce-4e1c-4a69-8895-252ecf2c04af"
      },
      "outputs": [
        {
          "data": {
            "text/plain": [
              "2015    285\n",
              "2014    247\n",
              "2016    219\n",
              "2012    195\n",
              "2013    184\n",
              "2011    165\n",
              "2009    123\n",
              "2010    111\n",
              "2008     93\n",
              "2007     77\n",
              "2006     72\n",
              "2017     24\n",
              "Name: Review\\nDate, dtype: int64"
            ]
          },
          "execution_count": 60,
          "metadata": {},
          "output_type": "execute_result"
        }
      ],
      "source": [
        "data['Review\\nDate'].value_counts()"
      ]
    },
    {
      "cell_type": "markdown",
      "id": "2155396e",
      "metadata": {
        "id": "2155396e"
      },
      "source": [
        "Most of reviews dated 2015"
      ]
    },
    {
      "cell_type": "code",
      "source": [
        "data[data['REF'] > 1000]['Rating'].value_counts()"
      ],
      "metadata": {
        "colab": {
          "base_uri": "https://localhost:8080/"
        },
        "id": "R8MHXlW-Z9QO",
        "outputId": "9f1a02e3-87fd-4be1-9adb-e0a1f27a0fe9"
      },
      "id": "R8MHXlW-Z9QO",
      "execution_count": null,
      "outputs": [
        {
          "output_type": "execute_result",
          "data": {
            "text/plain": [
              "3.50    234\n",
              "3.25    196\n",
              "3.00    154\n",
              "2.75    149\n",
              "3.75    118\n",
              "2.50     62\n",
              "4.00     36\n",
              "2.25     10\n",
              "2.00      3\n",
              "1.75      1\n",
              "Name: Rating, dtype: int64"
            ]
          },
          "metadata": {},
          "execution_count": 9
        }
      ]
    },
    {
      "cell_type": "markdown",
      "source": [
        "The lowest rating between bars which REF is higher than 1000 is 1.75. Only one bar have that rating."
      ],
      "metadata": {
        "id": "KdgqV7Cxd-6j"
      },
      "id": "KdgqV7Cxd-6j"
    },
    {
      "cell_type": "code",
      "source": [
        "data[data['Review\\nDate'] > 2015]['REF'].value_counts()"
      ],
      "metadata": {
        "colab": {
          "base_uri": "https://localhost:8080/"
        },
        "id": "AyGN4roEeTwF",
        "outputId": "92579557-27be-4fe4-fc94-50889edcb292"
      },
      "id": "AyGN4roEeTwF",
      "execution_count": null,
      "outputs": [
        {
          "output_type": "execute_result",
          "data": {
            "text/plain": [
              "1876    4\n",
              "1884    4\n",
              "1772    4\n",
              "1760    4\n",
              "1764    4\n",
              "       ..\n",
              "1816    4\n",
              "1824    4\n",
              "1952    3\n",
              "1716    3\n",
              "1708    1\n",
              "Name: REF, Length: 62, dtype: int64"
            ]
          },
          "metadata": {},
          "execution_count": 10
        }
      ]
    },
    {
      "cell_type": "markdown",
      "source": [
        "There are 4 bars which were reviewed after 2015 with REF 1876"
      ],
      "metadata": {
        "id": "a_Rt7yqyfdqP"
      },
      "id": "a_Rt7yqyfdqP"
    },
    {
      "cell_type": "code",
      "execution_count": null,
      "id": "5ae6acbf",
      "metadata": {
        "id": "5ae6acbf",
        "outputId": "1b206b1c-7648-4a5c-8f80-6f4d4bddd74d"
      },
      "outputs": [
        {
          "data": {
            "text/plain": [
              "medium    1344\n",
              "low        190\n",
              "high         2\n",
              "Name: Rating_Qualify, dtype: int64"
            ]
          },
          "execution_count": 44,
          "metadata": {},
          "output_type": "execute_result"
        }
      ],
      "source": [
        "def rating_qualify(x):\n",
        "    if x > 4:\n",
        "        return 'high'\n",
        "    if (x <= 4) and (int(x) > 2.5):\n",
        "        return 'medium'\n",
        "    if x <= 2.5:\n",
        "        return 'low'\n",
        "data['Rating_Qualify'] = data['Rating'].apply(rating_qualify)\n",
        "data['Rating_Qualify'].value_counts()"
      ]
    },
    {
      "cell_type": "code",
      "execution_count": null,
      "id": "e34f7efa",
      "metadata": {
        "colab": {
          "base_uri": "https://localhost:8080/",
          "height": 300
        },
        "id": "e34f7efa",
        "outputId": "b81dee7c-42b1-4459-beee-22940553108a"
      },
      "outputs": [
        {
          "output_type": "execute_result",
          "data": {
            "text/plain": [
              "            Rating          REF\n",
              "count  1795.000000  1795.000000\n",
              "mean      3.185933  1035.904735\n",
              "std       0.478062   552.886365\n",
              "min       1.000000     5.000000\n",
              "25%       2.875000   576.000000\n",
              "50%       3.250000  1069.000000\n",
              "75%       3.500000  1502.000000\n",
              "max       5.000000  1952.000000"
            ],
            "text/html": [
              "\n",
              "  <div id=\"df-3deff6e6-d92e-4086-ad3a-94f01aeca60e\">\n",
              "    <div class=\"colab-df-container\">\n",
              "      <div>\n",
              "<style scoped>\n",
              "    .dataframe tbody tr th:only-of-type {\n",
              "        vertical-align: middle;\n",
              "    }\n",
              "\n",
              "    .dataframe tbody tr th {\n",
              "        vertical-align: top;\n",
              "    }\n",
              "\n",
              "    .dataframe thead th {\n",
              "        text-align: right;\n",
              "    }\n",
              "</style>\n",
              "<table border=\"1\" class=\"dataframe\">\n",
              "  <thead>\n",
              "    <tr style=\"text-align: right;\">\n",
              "      <th></th>\n",
              "      <th>Rating</th>\n",
              "      <th>REF</th>\n",
              "    </tr>\n",
              "  </thead>\n",
              "  <tbody>\n",
              "    <tr>\n",
              "      <th>count</th>\n",
              "      <td>1795.000000</td>\n",
              "      <td>1795.000000</td>\n",
              "    </tr>\n",
              "    <tr>\n",
              "      <th>mean</th>\n",
              "      <td>3.185933</td>\n",
              "      <td>1035.904735</td>\n",
              "    </tr>\n",
              "    <tr>\n",
              "      <th>std</th>\n",
              "      <td>0.478062</td>\n",
              "      <td>552.886365</td>\n",
              "    </tr>\n",
              "    <tr>\n",
              "      <th>min</th>\n",
              "      <td>1.000000</td>\n",
              "      <td>5.000000</td>\n",
              "    </tr>\n",
              "    <tr>\n",
              "      <th>25%</th>\n",
              "      <td>2.875000</td>\n",
              "      <td>576.000000</td>\n",
              "    </tr>\n",
              "    <tr>\n",
              "      <th>50%</th>\n",
              "      <td>3.250000</td>\n",
              "      <td>1069.000000</td>\n",
              "    </tr>\n",
              "    <tr>\n",
              "      <th>75%</th>\n",
              "      <td>3.500000</td>\n",
              "      <td>1502.000000</td>\n",
              "    </tr>\n",
              "    <tr>\n",
              "      <th>max</th>\n",
              "      <td>5.000000</td>\n",
              "      <td>1952.000000</td>\n",
              "    </tr>\n",
              "  </tbody>\n",
              "</table>\n",
              "</div>\n",
              "      <button class=\"colab-df-convert\" onclick=\"convertToInteractive('df-3deff6e6-d92e-4086-ad3a-94f01aeca60e')\"\n",
              "              title=\"Convert this dataframe to an interactive table.\"\n",
              "              style=\"display:none;\">\n",
              "        \n",
              "  <svg xmlns=\"http://www.w3.org/2000/svg\" height=\"24px\"viewBox=\"0 0 24 24\"\n",
              "       width=\"24px\">\n",
              "    <path d=\"M0 0h24v24H0V0z\" fill=\"none\"/>\n",
              "    <path d=\"M18.56 5.44l.94 2.06.94-2.06 2.06-.94-2.06-.94-.94-2.06-.94 2.06-2.06.94zm-11 1L8.5 8.5l.94-2.06 2.06-.94-2.06-.94L8.5 2.5l-.94 2.06-2.06.94zm10 10l.94 2.06.94-2.06 2.06-.94-2.06-.94-.94-2.06-.94 2.06-2.06.94z\"/><path d=\"M17.41 7.96l-1.37-1.37c-.4-.4-.92-.59-1.43-.59-.52 0-1.04.2-1.43.59L10.3 9.45l-7.72 7.72c-.78.78-.78 2.05 0 2.83L4 21.41c.39.39.9.59 1.41.59.51 0 1.02-.2 1.41-.59l7.78-7.78 2.81-2.81c.8-.78.8-2.07 0-2.86zM5.41 20L4 18.59l7.72-7.72 1.47 1.35L5.41 20z\"/>\n",
              "  </svg>\n",
              "      </button>\n",
              "      \n",
              "  <style>\n",
              "    .colab-df-container {\n",
              "      display:flex;\n",
              "      flex-wrap:wrap;\n",
              "      gap: 12px;\n",
              "    }\n",
              "\n",
              "    .colab-df-convert {\n",
              "      background-color: #E8F0FE;\n",
              "      border: none;\n",
              "      border-radius: 50%;\n",
              "      cursor: pointer;\n",
              "      display: none;\n",
              "      fill: #1967D2;\n",
              "      height: 32px;\n",
              "      padding: 0 0 0 0;\n",
              "      width: 32px;\n",
              "    }\n",
              "\n",
              "    .colab-df-convert:hover {\n",
              "      background-color: #E2EBFA;\n",
              "      box-shadow: 0px 1px 2px rgba(60, 64, 67, 0.3), 0px 1px 3px 1px rgba(60, 64, 67, 0.15);\n",
              "      fill: #174EA6;\n",
              "    }\n",
              "\n",
              "    [theme=dark] .colab-df-convert {\n",
              "      background-color: #3B4455;\n",
              "      fill: #D2E3FC;\n",
              "    }\n",
              "\n",
              "    [theme=dark] .colab-df-convert:hover {\n",
              "      background-color: #434B5C;\n",
              "      box-shadow: 0px 1px 3px 1px rgba(0, 0, 0, 0.15);\n",
              "      filter: drop-shadow(0px 1px 2px rgba(0, 0, 0, 0.3));\n",
              "      fill: #FFFFFF;\n",
              "    }\n",
              "  </style>\n",
              "\n",
              "      <script>\n",
              "        const buttonEl =\n",
              "          document.querySelector('#df-3deff6e6-d92e-4086-ad3a-94f01aeca60e button.colab-df-convert');\n",
              "        buttonEl.style.display =\n",
              "          google.colab.kernel.accessAllowed ? 'block' : 'none';\n",
              "\n",
              "        async function convertToInteractive(key) {\n",
              "          const element = document.querySelector('#df-3deff6e6-d92e-4086-ad3a-94f01aeca60e');\n",
              "          const dataTable =\n",
              "            await google.colab.kernel.invokeFunction('convertToInteractive',\n",
              "                                                     [key], {});\n",
              "          if (!dataTable) return;\n",
              "\n",
              "          const docLinkHtml = 'Like what you see? Visit the ' +\n",
              "            '<a target=\"_blank\" href=https://colab.research.google.com/notebooks/data_table.ipynb>data table notebook</a>'\n",
              "            + ' to learn more about interactive tables.';\n",
              "          element.innerHTML = '';\n",
              "          dataTable['output_type'] = 'display_data';\n",
              "          await google.colab.output.renderOutput(dataTable, element);\n",
              "          const docLink = document.createElement('div');\n",
              "          docLink.innerHTML = docLinkHtml;\n",
              "          element.appendChild(docLink);\n",
              "        }\n",
              "      </script>\n",
              "    </div>\n",
              "  </div>\n",
              "  "
            ]
          },
          "metadata": {},
          "execution_count": 3
        }
      ],
      "source": [
        "data[['Rating', 'REF']].describe()"
      ]
    },
    {
      "cell_type": "code",
      "source": [
        "data[['Review\\nDate', 'Company\\nLocation', 'Bean\\nType']].mode()"
      ],
      "metadata": {
        "colab": {
          "base_uri": "https://localhost:8080/"
        },
        "id": "S8zwqgQcgUX6",
        "outputId": "e2d4bef2-d6fd-4fb3-8073-4f295e56a745"
      },
      "id": "S8zwqgQcgUX6",
      "execution_count": null,
      "outputs": [
        {
          "output_type": "error",
          "ename": "NameError",
          "evalue": "ignored",
          "traceback": [
            "\u001b[0;31m---------------------------------------------------------------------------\u001b[0m",
            "\u001b[0;31mNameError\u001b[0m                                 Traceback (most recent call last)",
            "\u001b[0;32m<ipython-input-1-854b488fd74e>\u001b[0m in \u001b[0;36m<module>\u001b[0;34m\u001b[0m\n\u001b[0;32m----> 1\u001b[0;31m \u001b[0mdata\u001b[0m\u001b[0;34m[\u001b[0m\u001b[0;34m[\u001b[0m\u001b[0;34m'Review\\nDate'\u001b[0m\u001b[0;34m,\u001b[0m \u001b[0;34m'Company\\nLocation'\u001b[0m\u001b[0;34m,\u001b[0m \u001b[0;34m'Bean\\nType'\u001b[0m\u001b[0;34m]\u001b[0m\u001b[0;34m]\u001b[0m\u001b[0;34m.\u001b[0m\u001b[0mmode\u001b[0m\u001b[0;34m(\u001b[0m\u001b[0;34m)\u001b[0m\u001b[0;34m\u001b[0m\u001b[0;34m\u001b[0m\u001b[0m\n\u001b[0m",
            "\u001b[0;31mNameError\u001b[0m: name 'data' is not defined"
          ]
        }
      ]
    },
    {
      "cell_type": "code",
      "source": [
        "import matplotlib.pyplot as plt\n",
        "fig = plt.figure(figsize =(10, 7))\n",
        "plt.boxplot(data['Rating'], vert = False)\n",
        "plt.show()\n",
        "def Percenttofloat(x):\n",
        "  x = str(x)\n",
        "  x = float(x[0:1])\n",
        "  return x * 0.01\n",
        "data['CocoaPercentfloat'] = data['Cocoa\\nPercent'].apply(Percenttofloat)\n",
        "plt.boxplot(data['CocoaPercentfloat'], vert = False)\n",
        "plt.show()\n",
        "plt.boxplot(data['Review\\nDate'], vert = False)\n",
        "plt.show()"
      ],
      "metadata": {
        "colab": {
          "base_uri": "https://localhost:8080/",
          "height": 924
        },
        "id": "UrOz3FmVgXCQ",
        "outputId": "32700968-af97-4e74-a200-16c193ebfc76"
      },
      "id": "UrOz3FmVgXCQ",
      "execution_count": 17,
      "outputs": [
        {
          "output_type": "display_data",
          "data": {
            "text/plain": [
              "<Figure size 720x504 with 1 Axes>"
            ],
            "image/png": "[encoded data removed]"
          },
          "metadata": {
            "needs_background": "light"
          }
        },
        {
          "output_type": "display_data",
          "data": {
            "text/plain": [
              "<Figure size 432x288 with 1 Axes>"
            ],
            "image/png": "[encoded data removed]"
          },
          "metadata": {
            "needs_background": "light"
          }
        },
        {
          "output_type": "display_data",
          "data": {
            "text/plain": [
              "<Figure size 432x288 with 1 Axes>"
            ],
            "image/png": "[encoded data removed]"
          },
          "metadata": {
            "needs_background": "light"
          }
        }
      ]
    },
    {
      "cell_type": "code",
      "source": [
        "import numpy as np\n",
        "q1 = np.percentile(data['Rating'], 25)\n",
        "q3 = np.percentile(data['Rating'], 75)\n",
        "iqr = q3 - q1\n",
        "iqr_outlier_threshold_bottom = q1 - 1.5 * iqr\n",
        "iqr_outlier_threshold_up = q3 + 1.5 * iqr\n",
        "print('Rating outlier via IQR')\n",
        "print(iqr_outlier_threshold_bottom)\n",
        "print(iqr_outlier_threshold_up)\n",
        "mean = data['Rating'].mean()\n",
        "std = data['Rating'].std()\n",
        "std_outlier_threshold_bottom = mean - 3 * std\n",
        "std_outlier_threshold_up = mean + 3 * std\n",
        "print('Rating outlier via std')\n",
        "print(std_outlier_threshold_bottom)\n",
        "print(std_outlier_threshold_up)\n",
        "\n"
      ],
      "metadata": {
        "colab": {
          "base_uri": "https://localhost:8080/"
        },
        "id": "uF-pOGIxgboN",
        "outputId": "81643154-a2f7-4482-a920-339dbf116218"
      },
      "id": "uF-pOGIxgboN",
      "execution_count": null,
      "outputs": [
        {
          "output_type": "stream",
          "name": "stdout",
          "text": [
            "Rating outlier via IQR\n",
            "1.9375\n",
            "4.4375\n",
            "Rating outlier via std\n",
            "1.7517459668733206\n",
            "4.6201203283913035\n"
          ]
        }
      ]
    },
    {
      "cell_type": "code",
      "source": [
        "q1 = np.percentile(data['CocoaPercentfloat'], 25)\n",
        "q3 = np.percentile(data['CocoaPercentfloat'], 75)\n",
        "iqr = q3 - q1\n",
        "iqr_outlier_threshold_bottom = q1 - 1.5 * iqr\n",
        "iqr_outlier_threshold_up = q3 + 1.5 * iqr\n",
        "print('CocoaPercentfloat outlier via IQR')\n",
        "print(iqr_outlier_threshold_bottom)\n",
        "print(iqr_outlier_threshold_up)\n",
        "mean = data['CocoaPercentfloat'].mean()\n",
        "std = data['CocoaPercentfloat'].std()\n",
        "std_outlier_threshold_bottom = mean - 3 * std\n",
        "std_outlier_threshold_up = mean + 3 * std\n",
        "print('CocoaPercentfloat outlier via std')\n",
        "print(std_outlier_threshold_bottom)\n",
        "print(std_outlier_threshold_up)"
      ],
      "metadata": {
        "id": "hsLx0lDkLMew"
      },
      "id": "hsLx0lDkLMew",
      "execution_count": null,
      "outputs": []
    },
    {
      "cell_type": "code",
      "source": [
        "print(data['Rating'].describe())\n",
        "iqr_data_no_outliers = data[data['Rating'] <= iqr_outlier_threshold_up]\n",
        "std_data_no_outliers = data[data['Rating'] <= std_outlier_threshold_up]\n",
        "print(iqr_data_no_outliers['Rating'].describe())\n",
        "#measures of central tendency are smaller now"
      ],
      "metadata": {
        "colab": {
          "base_uri": "https://localhost:8080/"
        },
        "id": "LKxYVzJrG4VO",
        "outputId": "5433aab6-010a-40c8-ec3c-5bf846af0a46"
      },
      "id": "LKxYVzJrG4VO",
      "execution_count": null,
      "outputs": [
        {
          "output_type": "stream",
          "name": "stdout",
          "text": [
            "count    1795.000000\n",
            "mean        3.185933\n",
            "std         0.478062\n",
            "min         1.000000\n",
            "25%         2.875000\n",
            "50%         3.250000\n",
            "75%         3.500000\n",
            "max         5.000000\n",
            "Name: Rating, dtype: float64\n",
            "count    1793.00000\n",
            "mean        3.18391\n",
            "std         0.47447\n",
            "min         1.00000\n",
            "25%         2.75000\n",
            "50%         3.25000\n",
            "75%         3.50000\n",
            "max         4.00000\n",
            "Name: Rating, dtype: float64\n"
          ]
        }
      ]
    },
    {
      "cell_type": "code",
      "source": [
        "data.isna().sum()"
      ],
      "metadata": {
        "colab": {
          "base_uri": "https://localhost:8080/"
        },
        "id": "MynN2n6HQKgg",
        "outputId": "cbba5d0d-0d0f-4853-977f-5edbc9987105"
      },
      "id": "MynN2n6HQKgg",
      "execution_count": null,
      "outputs": [
        {
          "output_type": "execute_result",
          "data": {
            "text/plain": [
              "Company \\n(Maker-if known)           0\n",
              "Specific Bean Origin\\nor Bar Name    0\n",
              "REF                                  0\n",
              "Review\\nDate                         0\n",
              "Cocoa\\nPercent                       0\n",
              "Company\\nLocation                    0\n",
              "Rating                               0\n",
              "Bean\\nType                           1\n",
              "Broad Bean\\nOrigin                   1\n",
              "dtype: int64"
            ]
          },
          "metadata": {},
          "execution_count": 11
        }
      ]
    },
    {
      "cell_type": "code",
      "source": [
        "import seaborn as sb\n",
        "dataplot = sb.heatmap(data.corr(), cmap=\"YlGnBu\", annot=True)"
      ],
      "metadata": {
        "colab": {
          "base_uri": "https://localhost:8080/",
          "height": 281
        },
        "id": "C_UBuX8aQ0zP",
        "outputId": "50567792-97c4-4e07-9d83-5150ed27c8a4"
      },
      "id": "C_UBuX8aQ0zP",
      "execution_count": 18,
      "outputs": [
        {
          "output_type": "display_data",
          "data": {
            "text/plain": [
              "<Figure size 432x288 with 2 Axes>"
            ],
            "image/png": "[encoded data removed]"
          },
          "metadata": {
            "needs_background": "light"
          }
        }
      ]
    },
    {
      "cell_type": "markdown",
      "source": [
        "how does the rating depend on the percentage of cocoa?"
      ],
      "metadata": {
        "id": "4Ay--HWo9-9F"
      },
      "id": "4Ay--HWo9-9F"
    },
    {
      "cell_type": "code",
      "source": [
        "data['IsUSA'] = data['Company\\nLocation'].apply(lambda x: 1 if x == 'U.S.A.' else 0)\n",
        "data['IsFrance'] = data['Company\\nLocation'].apply(lambda x: 1 if x == 'France' else 0)"
      ],
      "metadata": {
        "id": "PsVj1KCAMVAy"
      },
      "id": "PsVj1KCAMVAy",
      "execution_count": 47,
      "outputs": []
    },
    {
      "cell_type": "code",
      "source": [
        "import statsmodels.formula.api as smf\n",
        "lm1 = smf.ols(formula='Rating ~ CocoaPercentfloat + REF + IsUSA + IsFrance', data=data).fit()\n",
        "lm2 = smf.ols(formula='Rating ~ CocoaPercentfloat + REF', data=data).fit()\n",
        "lm1.params"
      ],
      "metadata": {
        "id": "hztFhZX0Q-50",
        "colab": {
          "base_uri": "https://localhost:8080/"
        },
        "outputId": "6ae93407-b7d6-41b9-b5a5-b1ffe57c8d45"
      },
      "id": "hztFhZX0Q-50",
      "execution_count": 54,
      "outputs": [
        {
          "output_type": "execute_result",
          "data": {
            "text/plain": [
              "Intercept            2.690747\n",
              "CocoaPercentfloat    6.123224\n",
              "REF                  0.000095\n",
              "IsUSA               -0.066729\n",
              "IsFrance             0.085239\n",
              "dtype: float64"
            ]
          },
          "metadata": {},
          "execution_count": 54
        }
      ]
    },
    {
      "cell_type": "code",
      "source": [
        "training_data = data.sample(frac=0.8, random_state=25)\n",
        "testing_data = data.drop(training_data.index)"
      ],
      "metadata": {
        "id": "Bt_WH5sn_nUQ"
      },
      "id": "Bt_WH5sn_nUQ",
      "execution_count": 60,
      "outputs": []
    },
    {
      "cell_type": "code",
      "source": [
        "X_new = pd.DataFrame({'Rating': [50]})\n",
        "print(lm1.rsquared)\n",
        "print(lm2.rsquared)"
      ],
      "metadata": {
        "colab": {
          "base_uri": "https://localhost:8080/"
        },
        "id": "a6apHJgfz-nU",
        "outputId": "6eb004fd-28ff-402d-a4d6-3367e76233c6"
      },
      "id": "a6apHJgfz-nU",
      "execution_count": 57,
      "outputs": [
        {
          "output_type": "stream",
          "name": "stdout",
          "text": [
            "0.029449005846424736\n",
            "0.020750274971645055\n"
          ]
        }
      ]
    },
    {
      "cell_type": "markdown",
      "source": [
        "R2 for experiment 1 higher than R2 for experiment 2"
      ],
      "metadata": {
        "id": "-o--L93DO-kP"
      },
      "id": "-o--L93DO-kP"
    },
    {
      "cell_type": "code",
      "source": [
        "from sklearn.metrics import mean_squared_error\n",
        "predict1 = lm1.predict(data[['CocoaPercentfloat', 'REF', 'IsUSA', 'IsFrance']])\n",
        "predict2 = lm2.predict(data[['CocoaPercentfloat', 'REF']])\n",
        "mse = mean_squared_error(data['Rating'], predict1)\n",
        "mse1 = mean_squared_error(data['Rating'], predict2)\n",
        "print(mse)\n",
        "print(mse1)"
      ],
      "metadata": {
        "colab": {
          "base_uri": "https://localhost:8080/"
        },
        "id": "8IeooUjPA2jM",
        "outputId": "8bd014e6-758d-441f-be6e-4472cf353f77"
      },
      "id": "8IeooUjPA2jM",
      "execution_count": 59,
      "outputs": [
        {
          "output_type": "stream",
          "name": "stdout",
          "text": [
            "0.22168969596111834\n",
            "0.22367662814138906\n"
          ]
        }
      ]
    },
    {
      "cell_type": "markdown",
      "source": [
        "We learned that bars from Companies in U.S.A. is negatively associated with rating. However, bars from France are getting more rating. The main parameter which rating depends on is Cocoa Percent.  "
      ],
      "metadata": {
        "id": "rkmO5ScaV3G8"
      },
      "id": "rkmO5ScaV3G8"
    },
    {
      "cell_type": "code",
      "source": [
        "lm.summary()"
      ],
      "metadata": {
        "colab": {
          "base_uri": "https://localhost:8080/",
          "height": 550
        },
        "id": "0O030p74XOL_",
        "outputId": "d8ecaf7c-d447-4d50-bb6b-7938de3239d2"
      },
      "id": "0O030p74XOL_",
      "execution_count": 58,
      "outputs": [
        {
          "output_type": "execute_result",
          "data": {
            "text/plain": [
              "<class 'statsmodels.iolib.summary.Summary'>\n",
              "\"\"\"\n",
              "                            OLS Regression Results                            \n",
              "==============================================================================\n",
              "Dep. Variable:                 Rating   R-squared:                       0.029\n",
              "Model:                            OLS   Adj. R-squared:                  0.027\n",
              "Method:                 Least Squares   F-statistic:                     13.58\n",
              "Date:                Tue, 20 Dec 2022   Prob (F-statistic):           6.58e-11\n",
              "Time:                        16:27:55   Log-Likelihood:                -1194.9\n",
              "No. Observations:                1795   AIC:                             2400.\n",
              "Df Residuals:                    1790   BIC:                             2427.\n",
              "Df Model:                           4                                         \n",
              "Covariance Type:            nonrobust                                         \n",
              "=====================================================================================\n",
              "                        coef    std err          t      P>|t|      [0.025      0.975]\n",
              "-------------------------------------------------------------------------------------\n",
              "Intercept             2.6907      0.091     29.464      0.000       2.512       2.870\n",
              "CocoaPercentfloat     6.1232      1.317      4.648      0.000       3.539       8.707\n",
              "REF                9.456e-05   2.07e-05      4.565      0.000    5.39e-05       0.000\n",
              "IsUSA                -0.0667      0.024     -2.837      0.005      -0.113      -0.021\n",
              "IsFrance              0.0852      0.041      2.054      0.040       0.004       0.167\n",
              "==============================================================================\n",
              "Omnibus:                       83.981   Durbin-Watson:                   1.470\n",
              "Prob(Omnibus):                  0.000   Jarque-Bera (JB):              112.051\n",
              "Skew:                          -0.452   Prob(JB):                     4.66e-25\n",
              "Kurtosis:                       3.825   Cond. No.                     1.39e+05\n",
              "==============================================================================\n",
              "\n",
              "Notes:\n",
              "[1] Standard Errors assume that the covariance matrix of the errors is correctly specified.\n",
              "[2] The condition number is large, 1.39e+05. This might indicate that there are\n",
              "strong multicollinearity or other numerical problems.\n",
              "\"\"\""
            ],
            "text/html": [
              "<table class=\"simpletable\">\n",
              "<caption>OLS Regression Results</caption>\n",
              "<tr>\n",
              "  <th>Dep. Variable:</th>         <td>Rating</td>      <th>  R-squared:         </th> <td>   0.029</td>\n",
              "</tr>\n",
              "<tr>\n",
              "  <th>Model:</th>                   <td>OLS</td>       <th>  Adj. R-squared:    </th> <td>   0.027</td>\n",
              "</tr>\n",
              "<tr>\n",
              "  <th>Method:</th>             <td>Least Squares</td>  <th>  F-statistic:       </th> <td>   13.58</td>\n",
              "</tr>\n",
              "<tr>\n",
              "  <th>Date:</th>             <td>Tue, 20 Dec 2022</td> <th>  Prob (F-statistic):</th> <td>6.58e-11</td>\n",
              "</tr>\n",
              "<tr>\n",
              "  <th>Time:</th>                 <td>16:27:55</td>     <th>  Log-Likelihood:    </th> <td> -1194.9</td>\n",
              "</tr>\n",
              "<tr>\n",
              "  <th>No. Observations:</th>      <td>  1795</td>      <th>  AIC:               </th> <td>   2400.</td>\n",
              "</tr>\n",
              "<tr>\n",
              "  <th>Df Residuals:</th>          <td>  1790</td>      <th>  BIC:               </th> <td>   2427.</td>\n",
              "</tr>\n",
              "<tr>\n",
              "  <th>Df Model:</th>              <td>     4</td>      <th>                     </th>     <td> </td>   \n",
              "</tr>\n",
              "<tr>\n",
              "  <th>Covariance Type:</th>      <td>nonrobust</td>    <th>                     </th>     <td> </td>   \n",
              "</tr>\n",
              "</table>\n",
              "<table class=\"simpletable\">\n",
              "<tr>\n",
              "          <td></td>             <th>coef</th>     <th>std err</th>      <th>t</th>      <th>P>|t|</th>  <th>[0.025</th>    <th>0.975]</th>  \n",
              "</tr>\n",
              "<tr>\n",
              "  <th>Intercept</th>         <td>    2.6907</td> <td>    0.091</td> <td>   29.464</td> <td> 0.000</td> <td>    2.512</td> <td>    2.870</td>\n",
              "</tr>\n",
              "<tr>\n",
              "  <th>CocoaPercentfloat</th> <td>    6.1232</td> <td>    1.317</td> <td>    4.648</td> <td> 0.000</td> <td>    3.539</td> <td>    8.707</td>\n",
              "</tr>\n",
              "<tr>\n",
              "  <th>REF</th>               <td> 9.456e-05</td> <td> 2.07e-05</td> <td>    4.565</td> <td> 0.000</td> <td> 5.39e-05</td> <td>    0.000</td>\n",
              "</tr>\n",
              "<tr>\n",
              "  <th>IsUSA</th>             <td>   -0.0667</td> <td>    0.024</td> <td>   -2.837</td> <td> 0.005</td> <td>   -0.113</td> <td>   -0.021</td>\n",
              "</tr>\n",
              "<tr>\n",
              "  <th>IsFrance</th>          <td>    0.0852</td> <td>    0.041</td> <td>    2.054</td> <td> 0.040</td> <td>    0.004</td> <td>    0.167</td>\n",
              "</tr>\n",
              "</table>\n",
              "<table class=\"simpletable\">\n",
              "<tr>\n",
              "  <th>Omnibus:</th>       <td>83.981</td> <th>  Durbin-Watson:     </th> <td>   1.470</td>\n",
              "</tr>\n",
              "<tr>\n",
              "  <th>Prob(Omnibus):</th> <td> 0.000</td> <th>  Jarque-Bera (JB):  </th> <td> 112.051</td>\n",
              "</tr>\n",
              "<tr>\n",
              "  <th>Skew:</th>          <td>-0.452</td> <th>  Prob(JB):          </th> <td>4.66e-25</td>\n",
              "</tr>\n",
              "<tr>\n",
              "  <th>Kurtosis:</th>      <td> 3.825</td> <th>  Cond. No.          </th> <td>1.39e+05</td>\n",
              "</tr>\n",
              "</table><br/><br/>Notes:<br/>[1] Standard Errors assume that the covariance matrix of the errors is correctly specified.<br/>[2] The condition number is large, 1.39e+05. This might indicate that there are<br/>strong multicollinearity or other numerical problems."
            ]
          },
          "metadata": {},
          "execution_count": 58
        }
      ]
    }
  ],
  "metadata": {
    "celltoolbar": "Необработанный формат ячейки",
    "kernelspec": {
      "display_name": "Python 3 (ipykernel)",
      "language": "python",
      "name": "python3"
    },
    "language_info": {
      "codemirror_mode": {
        "name": "ipython",
        "version": 3
      },
      "file_extension": ".py",
      "mimetype": "text/x-python",
      "name": "python",
      "nbconvert_exporter": "python",
      "pygments_lexer": "ipython3",
      "version": "3.9.12"
    },
    "colab": {
      "provenance": []
    }
  },
  "nbformat": 4,
  "nbformat_minor": 5
}